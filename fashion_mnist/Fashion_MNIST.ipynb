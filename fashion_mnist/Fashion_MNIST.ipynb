{
  "nbformat": 4,
  "nbformat_minor": 0,
  "metadata": {
    "colab": {
      "provenance": []
    },
    "kernelspec": {
      "name": "python3",
      "display_name": "Python 3"
    },
    "language_info": {
      "name": "python"
    }
  },
  "cells": [
    {
      "cell_type": "markdown",
      "source": [
        "# Fashion MNIST Data\n",
        "https://github.com/zalandoresearch/fashion-mnist"
      ],
      "metadata": {
        "id": "q0ourqY9mm4o"
      }
    },
    {
      "cell_type": "code",
      "source": [
        "import numpy as np\n",
        "import pandas as pd\n",
        "\n",
        "from keras.utils import to_categorical\n",
        "from sklearn.model_selection import train_test_split"
      ],
      "metadata": {
        "id": "kPlYb3lAmQkw"
      },
      "execution_count": 4,
      "outputs": []
    },
    {
      "cell_type": "code",
      "source": [
        "!mkdir /fashion_mnist_data\n",
        "!unzip fashion-mnist_train.csv.zip -d fashion_mnist_data/\n",
        "!unzip fashion-mnist_test.csv.zip -d fashion_mnist_data/\n",
        "\n",
        "# Load training and test data into dataframes\n"
      ],
      "metadata": {
        "colab": {
          "base_uri": "https://localhost:8080/"
        },
        "id": "HnsDLmgEntG6",
        "outputId": "b593ff0b-de87-46d3-a66a-07d15302d01f"
      },
      "execution_count": 1,
      "outputs": [
        {
          "output_type": "stream",
          "name": "stdout",
          "text": [
            "Archive:  fashion-mnist_train.csv.zip\n",
            "  End-of-central-directory signature not found.  Either this file is not\n",
            "  a zipfile, or it constitutes one disk of a multi-part archive.  In the\n",
            "  latter case the central directory and zipfile comment will be found on\n",
            "  the last disk(s) of this archive.\n",
            "unzip:  cannot find zipfile directory in one of fashion-mnist_train.csv.zip or\n",
            "        fashion-mnist_train.csv.zip.zip, and cannot find fashion-mnist_train.csv.zip.ZIP, period.\n",
            "Archive:  fashion-mnist_test.csv.zip\n",
            "replace fashion_mnist_data/fashion-mnist_test.csv? [y]es, [n]o, [A]ll, [N]one, [r]ename: "
          ]
        }
      ]
    },
    {
      "cell_type": "code",
      "source": [
        "data_train = pd.read_csv('fashion_mnist_data/fashion-mnist_train.csv')\n",
        "data_test = pd.read_csv('fashion_mnist_data/fashion-mnist_test.csv')"
      ],
      "metadata": {
        "id": "G2tqWAYPg_7_"
      },
      "execution_count": 5,
      "outputs": []
    },
    {
      "cell_type": "code",
      "source": [
        "data_train.head()"
      ],
      "metadata": {
        "colab": {
          "base_uri": "https://localhost:8080/",
          "height": 256
        },
        "id": "AmP-zmZqhFSN",
        "outputId": "b90f0b88-bd96-4afb-f1fd-d5bc3cfa5d59"
      },
      "execution_count": 6,
      "outputs": [
        {
          "output_type": "execute_result",
          "data": {
            "text/plain": [
              "   label  pixel1  pixel2  pixel3  pixel4  pixel5  pixel6  pixel7  pixel8  \\\n",
              "0      2       0       0       0       0       0       0       0       0   \n",
              "1      9       0       0       0       0       0       0       0       0   \n",
              "2      6       0       0       0       0       0       0       0       5   \n",
              "3      0       0       0       0       1       2       0       0       0   \n",
              "4      3       0       0       0       0       0       0       0       0   \n",
              "\n",
              "   pixel9  ...  pixel775  pixel776  pixel777  pixel778  pixel779  pixel780  \\\n",
              "0       0  ...         0         0         0         0         0         0   \n",
              "1       0  ...         0         0         0         0         0         0   \n",
              "2       0  ...         0         0         0        30        43         0   \n",
              "3       0  ...         3         0         0         0         0         1   \n",
              "4       0  ...         0         0         0         0         0         0   \n",
              "\n",
              "   pixel781  pixel782  pixel783  pixel784  \n",
              "0         0         0         0         0  \n",
              "1         0         0         0         0  \n",
              "2         0         0         0         0  \n",
              "3         0         0         0         0  \n",
              "4         0         0         0         0  \n",
              "\n",
              "[5 rows x 785 columns]"
            ],
            "text/html": [
              "\n",
              "  <div id=\"df-b33b3583-450a-4afd-b6b0-27543901d137\" class=\"colab-df-container\">\n",
              "    <div>\n",
              "<style scoped>\n",
              "    .dataframe tbody tr th:only-of-type {\n",
              "        vertical-align: middle;\n",
              "    }\n",
              "\n",
              "    .dataframe tbody tr th {\n",
              "        vertical-align: top;\n",
              "    }\n",
              "\n",
              "    .dataframe thead th {\n",
              "        text-align: right;\n",
              "    }\n",
              "</style>\n",
              "<table border=\"1\" class=\"dataframe\">\n",
              "  <thead>\n",
              "    <tr style=\"text-align: right;\">\n",
              "      <th></th>\n",
              "      <th>label</th>\n",
              "      <th>pixel1</th>\n",
              "      <th>pixel2</th>\n",
              "      <th>pixel3</th>\n",
              "      <th>pixel4</th>\n",
              "      <th>pixel5</th>\n",
              "      <th>pixel6</th>\n",
              "      <th>pixel7</th>\n",
              "      <th>pixel8</th>\n",
              "      <th>pixel9</th>\n",
              "      <th>...</th>\n",
              "      <th>pixel775</th>\n",
              "      <th>pixel776</th>\n",
              "      <th>pixel777</th>\n",
              "      <th>pixel778</th>\n",
              "      <th>pixel779</th>\n",
              "      <th>pixel780</th>\n",
              "      <th>pixel781</th>\n",
              "      <th>pixel782</th>\n",
              "      <th>pixel783</th>\n",
              "      <th>pixel784</th>\n",
              "    </tr>\n",
              "  </thead>\n",
              "  <tbody>\n",
              "    <tr>\n",
              "      <th>0</th>\n",
              "      <td>2</td>\n",
              "      <td>0</td>\n",
              "      <td>0</td>\n",
              "      <td>0</td>\n",
              "      <td>0</td>\n",
              "      <td>0</td>\n",
              "      <td>0</td>\n",
              "      <td>0</td>\n",
              "      <td>0</td>\n",
              "      <td>0</td>\n",
              "      <td>...</td>\n",
              "      <td>0</td>\n",
              "      <td>0</td>\n",
              "      <td>0</td>\n",
              "      <td>0</td>\n",
              "      <td>0</td>\n",
              "      <td>0</td>\n",
              "      <td>0</td>\n",
              "      <td>0</td>\n",
              "      <td>0</td>\n",
              "      <td>0</td>\n",
              "    </tr>\n",
              "    <tr>\n",
              "      <th>1</th>\n",
              "      <td>9</td>\n",
              "      <td>0</td>\n",
              "      <td>0</td>\n",
              "      <td>0</td>\n",
              "      <td>0</td>\n",
              "      <td>0</td>\n",
              "      <td>0</td>\n",
              "      <td>0</td>\n",
              "      <td>0</td>\n",
              "      <td>0</td>\n",
              "      <td>...</td>\n",
              "      <td>0</td>\n",
              "      <td>0</td>\n",
              "      <td>0</td>\n",
              "      <td>0</td>\n",
              "      <td>0</td>\n",
              "      <td>0</td>\n",
              "      <td>0</td>\n",
              "      <td>0</td>\n",
              "      <td>0</td>\n",
              "      <td>0</td>\n",
              "    </tr>\n",
              "    <tr>\n",
              "      <th>2</th>\n",
              "      <td>6</td>\n",
              "      <td>0</td>\n",
              "      <td>0</td>\n",
              "      <td>0</td>\n",
              "      <td>0</td>\n",
              "      <td>0</td>\n",
              "      <td>0</td>\n",
              "      <td>0</td>\n",
              "      <td>5</td>\n",
              "      <td>0</td>\n",
              "      <td>...</td>\n",
              "      <td>0</td>\n",
              "      <td>0</td>\n",
              "      <td>0</td>\n",
              "      <td>30</td>\n",
              "      <td>43</td>\n",
              "      <td>0</td>\n",
              "      <td>0</td>\n",
              "      <td>0</td>\n",
              "      <td>0</td>\n",
              "      <td>0</td>\n",
              "    </tr>\n",
              "    <tr>\n",
              "      <th>3</th>\n",
              "      <td>0</td>\n",
              "      <td>0</td>\n",
              "      <td>0</td>\n",
              "      <td>0</td>\n",
              "      <td>1</td>\n",
              "      <td>2</td>\n",
              "      <td>0</td>\n",
              "      <td>0</td>\n",
              "      <td>0</td>\n",
              "      <td>0</td>\n",
              "      <td>...</td>\n",
              "      <td>3</td>\n",
              "      <td>0</td>\n",
              "      <td>0</td>\n",
              "      <td>0</td>\n",
              "      <td>0</td>\n",
              "      <td>1</td>\n",
              "      <td>0</td>\n",
              "      <td>0</td>\n",
              "      <td>0</td>\n",
              "      <td>0</td>\n",
              "    </tr>\n",
              "    <tr>\n",
              "      <th>4</th>\n",
              "      <td>3</td>\n",
              "      <td>0</td>\n",
              "      <td>0</td>\n",
              "      <td>0</td>\n",
              "      <td>0</td>\n",
              "      <td>0</td>\n",
              "      <td>0</td>\n",
              "      <td>0</td>\n",
              "      <td>0</td>\n",
              "      <td>0</td>\n",
              "      <td>...</td>\n",
              "      <td>0</td>\n",
              "      <td>0</td>\n",
              "      <td>0</td>\n",
              "      <td>0</td>\n",
              "      <td>0</td>\n",
              "      <td>0</td>\n",
              "      <td>0</td>\n",
              "      <td>0</td>\n",
              "      <td>0</td>\n",
              "      <td>0</td>\n",
              "    </tr>\n",
              "  </tbody>\n",
              "</table>\n",
              "<p>5 rows × 785 columns</p>\n",
              "</div>\n",
              "    <div class=\"colab-df-buttons\">\n",
              "\n",
              "  <div class=\"colab-df-container\">\n",
              "    <button class=\"colab-df-convert\" onclick=\"convertToInteractive('df-b33b3583-450a-4afd-b6b0-27543901d137')\"\n",
              "            title=\"Convert this dataframe to an interactive table.\"\n",
              "            style=\"display:none;\">\n",
              "\n",
              "  <svg xmlns=\"http://www.w3.org/2000/svg\" height=\"24px\" viewBox=\"0 -960 960 960\">\n",
              "    <path d=\"M120-120v-720h720v720H120Zm60-500h600v-160H180v160Zm220 220h160v-160H400v160Zm0 220h160v-160H400v160ZM180-400h160v-160H180v160Zm440 0h160v-160H620v160ZM180-180h160v-160H180v160Zm440 0h160v-160H620v160Z\"/>\n",
              "  </svg>\n",
              "    </button>\n",
              "\n",
              "  <style>\n",
              "    .colab-df-container {\n",
              "      display:flex;\n",
              "      gap: 12px;\n",
              "    }\n",
              "\n",
              "    .colab-df-convert {\n",
              "      background-color: #E8F0FE;\n",
              "      border: none;\n",
              "      border-radius: 50%;\n",
              "      cursor: pointer;\n",
              "      display: none;\n",
              "      fill: #1967D2;\n",
              "      height: 32px;\n",
              "      padding: 0 0 0 0;\n",
              "      width: 32px;\n",
              "    }\n",
              "\n",
              "    .colab-df-convert:hover {\n",
              "      background-color: #E2EBFA;\n",
              "      box-shadow: 0px 1px 2px rgba(60, 64, 67, 0.3), 0px 1px 3px 1px rgba(60, 64, 67, 0.15);\n",
              "      fill: #174EA6;\n",
              "    }\n",
              "\n",
              "    .colab-df-buttons div {\n",
              "      margin-bottom: 4px;\n",
              "    }\n",
              "\n",
              "    [theme=dark] .colab-df-convert {\n",
              "      background-color: #3B4455;\n",
              "      fill: #D2E3FC;\n",
              "    }\n",
              "\n",
              "    [theme=dark] .colab-df-convert:hover {\n",
              "      background-color: #434B5C;\n",
              "      box-shadow: 0px 1px 3px 1px rgba(0, 0, 0, 0.15);\n",
              "      filter: drop-shadow(0px 1px 2px rgba(0, 0, 0, 0.3));\n",
              "      fill: #FFFFFF;\n",
              "    }\n",
              "  </style>\n",
              "\n",
              "    <script>\n",
              "      const buttonEl =\n",
              "        document.querySelector('#df-b33b3583-450a-4afd-b6b0-27543901d137 button.colab-df-convert');\n",
              "      buttonEl.style.display =\n",
              "        google.colab.kernel.accessAllowed ? 'block' : 'none';\n",
              "\n",
              "      async function convertToInteractive(key) {\n",
              "        const element = document.querySelector('#df-b33b3583-450a-4afd-b6b0-27543901d137');\n",
              "        const dataTable =\n",
              "          await google.colab.kernel.invokeFunction('convertToInteractive',\n",
              "                                                    [key], {});\n",
              "        if (!dataTable) return;\n",
              "\n",
              "        const docLinkHtml = 'Like what you see? Visit the ' +\n",
              "          '<a target=\"_blank\" href=https://colab.research.google.com/notebooks/data_table.ipynb>data table notebook</a>'\n",
              "          + ' to learn more about interactive tables.';\n",
              "        element.innerHTML = '';\n",
              "        dataTable['output_type'] = 'display_data';\n",
              "        await google.colab.output.renderOutput(dataTable, element);\n",
              "        const docLink = document.createElement('div');\n",
              "        docLink.innerHTML = docLinkHtml;\n",
              "        element.appendChild(docLink);\n",
              "      }\n",
              "    </script>\n",
              "  </div>\n",
              "\n",
              "\n",
              "<div id=\"df-01fd98d4-a4f7-4825-8fdd-40fa9a975372\">\n",
              "  <button class=\"colab-df-quickchart\" onclick=\"quickchart('df-01fd98d4-a4f7-4825-8fdd-40fa9a975372')\"\n",
              "            title=\"Suggest charts\"\n",
              "            style=\"display:none;\">\n",
              "\n",
              "<svg xmlns=\"http://www.w3.org/2000/svg\" height=\"24px\"viewBox=\"0 0 24 24\"\n",
              "     width=\"24px\">\n",
              "    <g>\n",
              "        <path d=\"M19 3H5c-1.1 0-2 .9-2 2v14c0 1.1.9 2 2 2h14c1.1 0 2-.9 2-2V5c0-1.1-.9-2-2-2zM9 17H7v-7h2v7zm4 0h-2V7h2v10zm4 0h-2v-4h2v4z\"/>\n",
              "    </g>\n",
              "</svg>\n",
              "  </button>\n",
              "\n",
              "<style>\n",
              "  .colab-df-quickchart {\n",
              "      --bg-color: #E8F0FE;\n",
              "      --fill-color: #1967D2;\n",
              "      --hover-bg-color: #E2EBFA;\n",
              "      --hover-fill-color: #174EA6;\n",
              "      --disabled-fill-color: #AAA;\n",
              "      --disabled-bg-color: #DDD;\n",
              "  }\n",
              "\n",
              "  [theme=dark] .colab-df-quickchart {\n",
              "      --bg-color: #3B4455;\n",
              "      --fill-color: #D2E3FC;\n",
              "      --hover-bg-color: #434B5C;\n",
              "      --hover-fill-color: #FFFFFF;\n",
              "      --disabled-bg-color: #3B4455;\n",
              "      --disabled-fill-color: #666;\n",
              "  }\n",
              "\n",
              "  .colab-df-quickchart {\n",
              "    background-color: var(--bg-color);\n",
              "    border: none;\n",
              "    border-radius: 50%;\n",
              "    cursor: pointer;\n",
              "    display: none;\n",
              "    fill: var(--fill-color);\n",
              "    height: 32px;\n",
              "    padding: 0;\n",
              "    width: 32px;\n",
              "  }\n",
              "\n",
              "  .colab-df-quickchart:hover {\n",
              "    background-color: var(--hover-bg-color);\n",
              "    box-shadow: 0 1px 2px rgba(60, 64, 67, 0.3), 0 1px 3px 1px rgba(60, 64, 67, 0.15);\n",
              "    fill: var(--button-hover-fill-color);\n",
              "  }\n",
              "\n",
              "  .colab-df-quickchart-complete:disabled,\n",
              "  .colab-df-quickchart-complete:disabled:hover {\n",
              "    background-color: var(--disabled-bg-color);\n",
              "    fill: var(--disabled-fill-color);\n",
              "    box-shadow: none;\n",
              "  }\n",
              "\n",
              "  .colab-df-spinner {\n",
              "    border: 2px solid var(--fill-color);\n",
              "    border-color: transparent;\n",
              "    border-bottom-color: var(--fill-color);\n",
              "    animation:\n",
              "      spin 1s steps(1) infinite;\n",
              "  }\n",
              "\n",
              "  @keyframes spin {\n",
              "    0% {\n",
              "      border-color: transparent;\n",
              "      border-bottom-color: var(--fill-color);\n",
              "      border-left-color: var(--fill-color);\n",
              "    }\n",
              "    20% {\n",
              "      border-color: transparent;\n",
              "      border-left-color: var(--fill-color);\n",
              "      border-top-color: var(--fill-color);\n",
              "    }\n",
              "    30% {\n",
              "      border-color: transparent;\n",
              "      border-left-color: var(--fill-color);\n",
              "      border-top-color: var(--fill-color);\n",
              "      border-right-color: var(--fill-color);\n",
              "    }\n",
              "    40% {\n",
              "      border-color: transparent;\n",
              "      border-right-color: var(--fill-color);\n",
              "      border-top-color: var(--fill-color);\n",
              "    }\n",
              "    60% {\n",
              "      border-color: transparent;\n",
              "      border-right-color: var(--fill-color);\n",
              "    }\n",
              "    80% {\n",
              "      border-color: transparent;\n",
              "      border-right-color: var(--fill-color);\n",
              "      border-bottom-color: var(--fill-color);\n",
              "    }\n",
              "    90% {\n",
              "      border-color: transparent;\n",
              "      border-bottom-color: var(--fill-color);\n",
              "    }\n",
              "  }\n",
              "</style>\n",
              "\n",
              "  <script>\n",
              "    async function quickchart(key) {\n",
              "      const quickchartButtonEl =\n",
              "        document.querySelector('#' + key + ' button');\n",
              "      quickchartButtonEl.disabled = true;  // To prevent multiple clicks.\n",
              "      quickchartButtonEl.classList.add('colab-df-spinner');\n",
              "      try {\n",
              "        const charts = await google.colab.kernel.invokeFunction(\n",
              "            'suggestCharts', [key], {});\n",
              "      } catch (error) {\n",
              "        console.error('Error during call to suggestCharts:', error);\n",
              "      }\n",
              "      quickchartButtonEl.classList.remove('colab-df-spinner');\n",
              "      quickchartButtonEl.classList.add('colab-df-quickchart-complete');\n",
              "    }\n",
              "    (() => {\n",
              "      let quickchartButtonEl =\n",
              "        document.querySelector('#df-01fd98d4-a4f7-4825-8fdd-40fa9a975372 button');\n",
              "      quickchartButtonEl.style.display =\n",
              "        google.colab.kernel.accessAllowed ? 'block' : 'none';\n",
              "    })();\n",
              "  </script>\n",
              "</div>\n",
              "    </div>\n",
              "  </div>\n"
            ]
          },
          "metadata": {},
          "execution_count": 6
        }
      ]
    },
    {
      "cell_type": "code",
      "source": [],
      "metadata": {
        "id": "8WDR4pi9hHOo"
      },
      "execution_count": null,
      "outputs": []
    },
    {
      "cell_type": "code",
      "source": [
        "# X forms the training images, and y forms the training labels\n",
        "X = np.array(data_train.iloc[:, 1:])\n",
        "y = to_categorical(np.array(data_train.iloc[:, 0]))\n",
        "\n",
        "# Here I split original training data to sub-training (80%) and validation data (20%)\n",
        "X_train, X_test, y_train, y_test = train_test_split(X, y, test_size=0.2, random_state=13)\n",
        "\n",
        "# # X_test forms the test images, and y_test forms the test labels\n",
        "# X_test = np.array(data_test.iloc[:, 1:])\n",
        "# y_test = to_categorical(np.array(data_test.iloc[:, 0]))"
      ],
      "metadata": {
        "id": "W8I4v3YdpC9a"
      },
      "execution_count": null,
      "outputs": []
    },
    {
      "cell_type": "code",
      "source": [
        "# Each image's dimension is 28 x 28\n",
        "img_rows, img_cols = 28, 28\n",
        "input_shape = (img_rows, img_cols, 1)\n",
        "\n",
        "# Prepare the training images\n",
        "X_train = X_train.reshape(X_train.shape[0], img_rows, img_cols, 1)\n",
        "X_train = X_train.astype('float32')\n",
        "X_train /= 255\n",
        "\n",
        "# Prepare the test images\n",
        "X_test = X_test.reshape(X_test.shape[0], img_rows, img_cols, 1)\n",
        "X_test = X_test.astype('float32')\n",
        "X_test /= 255\n",
        "\n",
        "# Prepare the validation images\n",
        "X_val = X_val.reshape(X_val.shape[0], img_rows, img_cols, 1)\n",
        "X_val = X_val.astype('float32')\n",
        "X_val /= 255"
      ],
      "metadata": {
        "id": "oDgz7pjhpklZ"
      },
      "execution_count": null,
      "outputs": []
    },
    {
      "cell_type": "code",
      "source": [
        "# Import Keras libraries\n",
        "import keras\n",
        "from keras.models import Sequential\n",
        "from keras.layers import Dense, Dropout, Flatten\n",
        "from keras.layers import Conv2D, MaxPooling2D\n",
        "\n",
        "cnn1 = Sequential()\n",
        "cnn1.add(Conv2D(32, kernel_size=(3, 3), activation='relu', input_shape=input_shape))\n",
        "cnn1.add(MaxPooling2D(pool_size=(2, 2)))\n",
        "cnn1.add(Dropout(0.2))\n",
        "\n",
        "cnn1.add(Flatten())\n",
        "\n",
        "cnn1.add(Dense(128, activation='relu'))\n",
        "cnn1.add(Dense(10, activation='softmax'))"
      ],
      "metadata": {
        "id": "6Im3ZYOSpqoo"
      },
      "execution_count": null,
      "outputs": []
    },
    {
      "cell_type": "code",
      "source": [
        "cnn1.compile(loss=keras.losses.categorical_crossentropy,\n",
        "              optimizer=keras.optimizers.Adam(),\n",
        "              metrics=['accuracy'])"
      ],
      "metadata": {
        "id": "ZpFRKHKqprgr"
      },
      "execution_count": null,
      "outputs": []
    },
    {
      "cell_type": "code",
      "source": [
        "cnn1.summary()"
      ],
      "metadata": {
        "colab": {
          "base_uri": "https://localhost:8080/"
        },
        "id": "RjJbuI2upvFo",
        "outputId": "4a2fe274-2404-43fd-a6fa-8d0ef69fa9bd"
      },
      "execution_count": null,
      "outputs": [
        {
          "output_type": "stream",
          "name": "stdout",
          "text": [
            "Model: \"sequential_1\"\n",
            "_________________________________________________________________\n",
            " Layer (type)                Output Shape              Param #   \n",
            "=================================================================\n",
            " conv2d_1 (Conv2D)           (None, 26, 26, 32)        320       \n",
            "                                                                 \n",
            " max_pooling2d_1 (MaxPoolin  (None, 13, 13, 32)        0         \n",
            " g2D)                                                            \n",
            "                                                                 \n",
            " dropout_1 (Dropout)         (None, 13, 13, 32)        0         \n",
            "                                                                 \n",
            " flatten_1 (Flatten)         (None, 5408)              0         \n",
            "                                                                 \n",
            " dense_2 (Dense)             (None, 128)               692352    \n",
            "                                                                 \n",
            " dense_3 (Dense)             (None, 10)                1290      \n",
            "                                                                 \n",
            "=================================================================\n",
            "Total params: 693962 (2.65 MB)\n",
            "Trainable params: 693962 (2.65 MB)\n",
            "Non-trainable params: 0 (0.00 Byte)\n",
            "_________________________________________________________________\n"
          ]
        }
      ]
    },
    {
      "cell_type": "code",
      "source": [
        "history1 = cnn1.fit(X_train, y_train,\n",
        "          batch_size=256,\n",
        "          epochs=10,\n",
        "          verbose=1,\n",
        "          validation_data=(X_val, y_val))"
      ],
      "metadata": {
        "colab": {
          "base_uri": "https://localhost:8080/"
        },
        "id": "Kg0uGSLRpw3E",
        "outputId": "5f51682d-f183-4ee2-ae5b-36cb4bcee3d9"
      },
      "execution_count": null,
      "outputs": [
        {
          "output_type": "stream",
          "name": "stdout",
          "text": [
            "Epoch 1/10\n",
            "188/188 [==============================] - 24s 126ms/step - loss: 0.5499 - accuracy: 0.8080 - val_loss: 0.3998 - val_accuracy: 0.8622\n",
            "Epoch 2/10\n",
            "188/188 [==============================] - 23s 124ms/step - loss: 0.3639 - accuracy: 0.8723 - val_loss: 0.3519 - val_accuracy: 0.8766\n",
            "Epoch 3/10\n",
            "188/188 [==============================] - 24s 125ms/step - loss: 0.3208 - accuracy: 0.8884 - val_loss: 0.3328 - val_accuracy: 0.8817\n",
            "Epoch 4/10\n",
            "188/188 [==============================] - 22s 118ms/step - loss: 0.3018 - accuracy: 0.8932 - val_loss: 0.3222 - val_accuracy: 0.8868\n",
            "Epoch 5/10\n",
            "188/188 [==============================] - 28s 148ms/step - loss: 0.2777 - accuracy: 0.9019 - val_loss: 0.2976 - val_accuracy: 0.8933\n",
            "Epoch 6/10\n",
            "188/188 [==============================] - 23s 125ms/step - loss: 0.2622 - accuracy: 0.9067 - val_loss: 0.2812 - val_accuracy: 0.9000\n",
            "Epoch 7/10\n",
            "188/188 [==============================] - 23s 124ms/step - loss: 0.2478 - accuracy: 0.9118 - val_loss: 0.2811 - val_accuracy: 0.8992\n",
            "Epoch 8/10\n",
            "188/188 [==============================] - 23s 125ms/step - loss: 0.2339 - accuracy: 0.9158 - val_loss: 0.2667 - val_accuracy: 0.9060\n",
            "Epoch 9/10\n",
            "188/188 [==============================] - 23s 125ms/step - loss: 0.2226 - accuracy: 0.9208 - val_loss: 0.2592 - val_accuracy: 0.9081\n",
            "Epoch 10/10\n",
            "188/188 [==============================] - 23s 124ms/step - loss: 0.2130 - accuracy: 0.9233 - val_loss: 0.2584 - val_accuracy: 0.9084\n"
          ]
        }
      ]
    },
    {
      "cell_type": "code",
      "source": [
        "score1 = cnn1.evaluate(X_test, y_test, verbose=0)\n",
        "print('Test loss:', score1[0])\n",
        "print('Test accuracy:', score1[1])"
      ],
      "metadata": {
        "colab": {
          "base_uri": "https://localhost:8080/"
        },
        "id": "1_qQRiWKp0Ze",
        "outputId": "8aab1359-0866-4b3d-f8f7-fed9c03cfaa2"
      },
      "execution_count": null,
      "outputs": [
        {
          "output_type": "stream",
          "name": "stdout",
          "text": [
            "Test loss: 0.2393924742937088\n",
            "Test accuracy: 0.9142000079154968\n"
          ]
        }
      ]
    },
    {
      "cell_type": "code",
      "source": [],
      "metadata": {
        "id": "qOsFd4R8p2YX"
      },
      "execution_count": null,
      "outputs": []
    },
    {
      "cell_type": "markdown",
      "source": [
        "# Data Augmentation"
      ],
      "metadata": {
        "id": "tMJ_U6uwuNIF"
      }
    },
    {
      "cell_type": "code",
      "source": [
        "from keras.preprocessing.image import ImageDataGenerator\n",
        "gen = ImageDataGenerator(rotation_range=8, width_shift_range=0.08, shear_range=0.3,\n",
        "                               height_shift_range=0.08, zoom_range=0.08)\n",
        "batches = gen.flow(X_train, y_train, batch_size=256)\n",
        "val_batches = gen.flow(X_val, y_val, batch_size=256)"
      ],
      "metadata": {
        "id": "YMX3bZIZuPV2"
      },
      "execution_count": null,
      "outputs": []
    },
    {
      "cell_type": "code",
      "source": [
        "history1 = cnn1.fit_generator(batches, steps_per_epoch=48000//256, epochs=50,\n",
        "                    validation_data=val_batches, validation_steps=12000//256, use_multiprocessing=True)"
      ],
      "metadata": {
        "colab": {
          "base_uri": "https://localhost:8080/"
        },
        "id": "P38Y44GMvcho",
        "outputId": "e3144575-5afc-461d-ddb9-9fe9dc02ee39"
      },
      "execution_count": null,
      "outputs": [
        {
          "metadata": {
            "tags": null
          },
          "name": "stdout",
          "output_type": "stream",
          "text": [
            "Epoch 1/50\n"
          ]
        },
        {
          "metadata": {
            "tags": null
          },
          "name": "stderr",
          "output_type": "stream",
          "text": [
            "<ipython-input-28-d49d5baf93c6>:1: UserWarning: `Model.fit_generator` is deprecated and will be removed in a future version. Please use `Model.fit`, which supports generators.\n",
            "  history1 = cnn1.fit_generator(batches, steps_per_epoch=48000//256, epochs=50,\n"
          ]
        },
        {
          "output_type": "stream",
          "name": "stdout",
          "text": [
            "187/187 [==============================] - 59s 315ms/step - loss: 0.2426 - accuracy: 0.9117 - val_loss: 0.2730 - val_accuracy: 0.9031\n",
            "Epoch 2/50\n",
            "187/187 [==============================] - 43s 227ms/step - loss: 0.2371 - accuracy: 0.9112 - val_loss: 0.2654 - val_accuracy: 0.9001\n",
            "Epoch 3/50\n",
            "187/187 [==============================] - 47s 249ms/step - loss: 0.2408 - accuracy: 0.9102 - val_loss: 0.2645 - val_accuracy: 0.9036\n",
            "Epoch 4/50\n",
            "187/187 [==============================] - 44s 236ms/step - loss: 0.2415 - accuracy: 0.9105 - val_loss: 0.2591 - val_accuracy: 0.9062\n",
            "Epoch 5/50\n",
            "187/187 [==============================] - 46s 245ms/step - loss: 0.2371 - accuracy: 0.9116 - val_loss: 0.2643 - val_accuracy: 0.9051\n",
            "Epoch 6/50\n",
            "187/187 [==============================] - 45s 237ms/step - loss: 0.2387 - accuracy: 0.9106 - val_loss: 0.2613 - val_accuracy: 0.9023\n",
            "Epoch 7/50\n",
            "187/187 [==============================] - 44s 231ms/step - loss: 0.2365 - accuracy: 0.9113 - val_loss: 0.2720 - val_accuracy: 0.9026\n",
            "Epoch 8/50\n",
            "187/187 [==============================] - 40s 214ms/step - loss: 0.2347 - accuracy: 0.9120 - val_loss: 0.2633 - val_accuracy: 0.9040\n",
            "Epoch 9/50\n",
            "187/187 [==============================] - 41s 216ms/step - loss: 0.2359 - accuracy: 0.9118 - val_loss: 0.2655 - val_accuracy: 0.9020\n",
            "Epoch 10/50\n",
            "187/187 [==============================] - 45s 240ms/step - loss: 0.2338 - accuracy: 0.9124 - val_loss: 0.2787 - val_accuracy: 0.8970\n",
            "Epoch 11/50\n",
            "187/187 [==============================] - 45s 241ms/step - loss: 0.2312 - accuracy: 0.9139 - val_loss: 0.2660 - val_accuracy: 0.9012\n",
            "Epoch 12/50\n",
            "187/187 [==============================] - 41s 219ms/step - loss: 0.2338 - accuracy: 0.9130 - val_loss: 0.2681 - val_accuracy: 0.9017\n",
            "Epoch 13/50\n",
            "187/187 [==============================] - 42s 223ms/step - loss: 0.2337 - accuracy: 0.9136 - val_loss: 0.2628 - val_accuracy: 0.9008\n",
            "Epoch 14/50\n",
            "187/187 [==============================] - 45s 237ms/step - loss: 0.2316 - accuracy: 0.9125 - val_loss: 0.2626 - val_accuracy: 0.9055\n",
            "Epoch 15/50\n",
            "187/187 [==============================] - 42s 222ms/step - loss: 0.2304 - accuracy: 0.9153 - val_loss: 0.2618 - val_accuracy: 0.9037\n",
            "Epoch 16/50\n",
            "187/187 [==============================] - 44s 234ms/step - loss: 0.2292 - accuracy: 0.9139 - val_loss: 0.2614 - val_accuracy: 0.9055\n",
            "Epoch 17/50\n",
            "187/187 [==============================] - 45s 238ms/step - loss: 0.2346 - accuracy: 0.9133 - val_loss: 0.2796 - val_accuracy: 0.8942\n",
            "Epoch 18/50\n",
            "187/187 [==============================] - 43s 227ms/step - loss: 0.2293 - accuracy: 0.9149 - val_loss: 0.2578 - val_accuracy: 0.9046\n",
            "Epoch 19/50\n",
            "187/187 [==============================] - 45s 240ms/step - loss: 0.2275 - accuracy: 0.9153 - val_loss: 0.2701 - val_accuracy: 0.9020\n",
            "Epoch 20/50\n",
            "187/187 [==============================] - 42s 221ms/step - loss: 0.2303 - accuracy: 0.9138 - val_loss: 0.2610 - val_accuracy: 0.9057\n",
            "Epoch 21/50\n",
            "187/187 [==============================] - 45s 236ms/step - loss: 0.2312 - accuracy: 0.9142 - val_loss: 0.2586 - val_accuracy: 0.9095\n",
            "Epoch 22/50\n",
            "187/187 [==============================] - 45s 239ms/step - loss: 0.2264 - accuracy: 0.9163 - val_loss: 0.2554 - val_accuracy: 0.9111\n",
            "Epoch 23/50\n",
            "187/187 [==============================] - 45s 239ms/step - loss: 0.2236 - accuracy: 0.9175 - val_loss: 0.2588 - val_accuracy: 0.9061\n",
            "Epoch 24/50\n",
            "187/187 [==============================] - 42s 223ms/step - loss: 0.2250 - accuracy: 0.9153 - val_loss: 0.2659 - val_accuracy: 0.9039\n",
            "Epoch 25/50\n",
            "187/187 [==============================] - 45s 241ms/step - loss: 0.2264 - accuracy: 0.9154 - val_loss: 0.2572 - val_accuracy: 0.9073\n",
            "Epoch 26/50\n",
            "187/187 [==============================] - 45s 242ms/step - loss: 0.2263 - accuracy: 0.9151 - val_loss: 0.2510 - val_accuracy: 0.9075\n",
            "Epoch 27/50\n",
            "187/187 [==============================] - 41s 221ms/step - loss: 0.2261 - accuracy: 0.9159 - val_loss: 0.2671 - val_accuracy: 0.9054\n",
            "Epoch 28/50\n",
            "187/187 [==============================] - 41s 218ms/step - loss: 0.2248 - accuracy: 0.9158 - val_loss: 0.2598 - val_accuracy: 0.9074\n",
            "Epoch 29/50\n",
            "187/187 [==============================] - 45s 239ms/step - loss: 0.2266 - accuracy: 0.9152 - val_loss: 0.2632 - val_accuracy: 0.9064\n",
            "Epoch 30/50\n",
            "187/187 [==============================] - 45s 238ms/step - loss: 0.2220 - accuracy: 0.9153 - val_loss: 0.2591 - val_accuracy: 0.9036\n",
            "Epoch 31/50\n",
            "187/187 [==============================] - 43s 227ms/step - loss: 0.2242 - accuracy: 0.9179 - val_loss: 0.2647 - val_accuracy: 0.9037\n",
            "Epoch 32/50\n",
            "187/187 [==============================] - 44s 237ms/step - loss: 0.2200 - accuracy: 0.9178 - val_loss: 0.2575 - val_accuracy: 0.9081\n",
            "Epoch 33/50\n",
            "187/187 [==============================] - 45s 238ms/step - loss: 0.2269 - accuracy: 0.9150 - val_loss: 0.2825 - val_accuracy: 0.8979\n",
            "Epoch 34/50\n",
            "187/187 [==============================] - 45s 239ms/step - loss: 0.2209 - accuracy: 0.9189 - val_loss: 0.2601 - val_accuracy: 0.9052\n",
            "Epoch 35/50\n",
            "187/187 [==============================] - 45s 240ms/step - loss: 0.2217 - accuracy: 0.9171 - val_loss: 0.2581 - val_accuracy: 0.9090\n",
            "Epoch 36/50\n",
            "187/187 [==============================] - 46s 242ms/step - loss: 0.2196 - accuracy: 0.9171 - val_loss: 0.2526 - val_accuracy: 0.9057\n",
            "Epoch 37/50\n",
            "187/187 [==============================] - 46s 242ms/step - loss: 0.2214 - accuracy: 0.9171 - val_loss: 0.2559 - val_accuracy: 0.9073\n",
            "Epoch 38/50\n",
            "187/187 [==============================] - 45s 240ms/step - loss: 0.2216 - accuracy: 0.9167 - val_loss: 0.2606 - val_accuracy: 0.9032\n",
            "Epoch 39/50\n",
            "187/187 [==============================] - 44s 234ms/step - loss: 0.2175 - accuracy: 0.9180 - val_loss: 0.2668 - val_accuracy: 0.9032\n",
            "Epoch 40/50\n",
            "187/187 [==============================] - 45s 239ms/step - loss: 0.2212 - accuracy: 0.9181 - val_loss: 0.2643 - val_accuracy: 0.9058\n",
            "Epoch 41/50\n",
            "187/187 [==============================] - 45s 241ms/step - loss: 0.2212 - accuracy: 0.9174 - val_loss: 0.2579 - val_accuracy: 0.9097\n",
            "Epoch 42/50\n",
            "187/187 [==============================] - 45s 240ms/step - loss: 0.2187 - accuracy: 0.9170 - val_loss: 0.2543 - val_accuracy: 0.9097\n",
            "Epoch 43/50\n",
            "187/187 [==============================] - 45s 241ms/step - loss: 0.2155 - accuracy: 0.9209 - val_loss: 0.2624 - val_accuracy: 0.9041\n",
            "Epoch 44/50\n",
            "187/187 [==============================] - 45s 239ms/step - loss: 0.2158 - accuracy: 0.9190 - val_loss: 0.2639 - val_accuracy: 0.9012\n",
            "Epoch 45/50\n",
            "187/187 [==============================] - 45s 240ms/step - loss: 0.2181 - accuracy: 0.9179 - val_loss: 0.2591 - val_accuracy: 0.9066\n",
            "Epoch 46/50\n",
            "187/187 [==============================] - 45s 239ms/step - loss: 0.2146 - accuracy: 0.9183 - val_loss: 0.2605 - val_accuracy: 0.9092\n",
            "Epoch 47/50\n",
            "187/187 [==============================] - 45s 238ms/step - loss: 0.2132 - accuracy: 0.9210 - val_loss: 0.2585 - val_accuracy: 0.9090\n",
            "Epoch 48/50\n",
            "187/187 [==============================] - 45s 237ms/step - loss: 0.2158 - accuracy: 0.9178 - val_loss: 0.2653 - val_accuracy: 0.9034\n",
            "Epoch 49/50\n",
            "187/187 [==============================] - 45s 240ms/step - loss: 0.2172 - accuracy: 0.9180 - val_loss: 0.2608 - val_accuracy: 0.9077\n",
            "Epoch 50/50\n",
            "187/187 [==============================] - 45s 238ms/step - loss: 0.2171 - accuracy: 0.9181 - val_loss: 0.2598 - val_accuracy: 0.9051\n"
          ]
        }
      ]
    },
    {
      "cell_type": "code",
      "source": [
        "score1 = cnn1.evaluate(X_test, y_test, verbose=0)\n",
        "print('Test loss:', score1[0])\n",
        "print('Test accuracy:', score1[1])"
      ],
      "metadata": {
        "colab": {
          "base_uri": "https://localhost:8080/"
        },
        "id": "M1mtdMjOvc2u",
        "outputId": "d077b9bc-9e1e-4d22-f75c-ebce313c27d1"
      },
      "execution_count": null,
      "outputs": [
        {
          "output_type": "stream",
          "name": "stdout",
          "text": [
            "Test loss: 0.2423664778470993\n",
            "Test accuracy: 0.9162999987602234\n"
          ]
        }
      ]
    },
    {
      "cell_type": "code",
      "source": [
        "https://www.youtube.com/watch?v=HGwBXDKFk9I"
      ],
      "metadata": {
        "colab": {
          "base_uri": "https://localhost:8080/",
          "height": 142
        },
        "id": "oxN87lKyyQ1g",
        "outputId": "5ca72e35-3b9e-4c8a-c8b5-0208a9420a83"
      },
      "execution_count": null,
      "outputs": [
        {
          "output_type": "error",
          "ename": "SyntaxError",
          "evalue": "ignored",
          "traceback": [
            "\u001b[0;36m  File \u001b[0;32m\"<ipython-input-26-96d4e61d5a94>\"\u001b[0;36m, line \u001b[0;32m1\u001b[0m\n\u001b[0;31m    https://www.youtube.com/watch?v=HGwBXDKFk9I\u001b[0m\n\u001b[0m          ^\u001b[0m\n\u001b[0;31mSyntaxError\u001b[0m\u001b[0;31m:\u001b[0m invalid syntax\n"
          ]
        }
      ]
    }
  ]
}